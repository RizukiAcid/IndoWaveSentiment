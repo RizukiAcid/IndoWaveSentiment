{
 "cells": [
  {
   "cell_type": "markdown",
   "metadata": {},
   "source": [
    "# Data Loading"
   ]
  },
  {
   "cell_type": "code",
   "execution_count": 1,
   "metadata": {
    "scrolled": true,
    "vscode": {
     "languageId": "plaintext"
    }
   },
   "outputs": [
    {
     "data": {
      "text/html": [
       "<div>\n",
       "<style scoped>\n",
       "    .dataframe tbody tr th:only-of-type {\n",
       "        vertical-align: middle;\n",
       "    }\n",
       "\n",
       "    .dataframe tbody tr th {\n",
       "        vertical-align: top;\n",
       "    }\n",
       "\n",
       "    .dataframe thead th {\n",
       "        text-align: right;\n",
       "    }\n",
       "</style>\n",
       "<table border=\"1\" class=\"dataframe\">\n",
       "  <thead>\n",
       "    <tr style=\"text-align: right;\">\n",
       "      <th></th>\n",
       "      <th>actor</th>\n",
       "      <th>emotion_code</th>\n",
       "      <th>emotion</th>\n",
       "      <th>intensity</th>\n",
       "      <th>repetition</th>\n",
       "      <th>file_path</th>\n",
       "    </tr>\n",
       "  </thead>\n",
       "  <tbody>\n",
       "    <tr>\n",
       "      <th>0</th>\n",
       "      <td>08</td>\n",
       "      <td>05</td>\n",
       "      <td>Disappointed</td>\n",
       "      <td>02</td>\n",
       "      <td>03</td>\n",
       "      <td>data/Actor_08/08-05-02-03.wav</td>\n",
       "    </tr>\n",
       "    <tr>\n",
       "      <th>1</th>\n",
       "      <td>08</td>\n",
       "      <td>03</td>\n",
       "      <td>Surprise</td>\n",
       "      <td>02</td>\n",
       "      <td>01</td>\n",
       "      <td>data/Actor_08/08-03-02-01.wav</td>\n",
       "    </tr>\n",
       "    <tr>\n",
       "      <th>2</th>\n",
       "      <td>08</td>\n",
       "      <td>01</td>\n",
       "      <td>Neutral</td>\n",
       "      <td>02</td>\n",
       "      <td>01</td>\n",
       "      <td>data/Actor_08/08-01-02-01.wav</td>\n",
       "    </tr>\n",
       "    <tr>\n",
       "      <th>3</th>\n",
       "      <td>08</td>\n",
       "      <td>04</td>\n",
       "      <td>Disgust</td>\n",
       "      <td>02</td>\n",
       "      <td>02</td>\n",
       "      <td>data/Actor_08/08-04-02-02.wav</td>\n",
       "    </tr>\n",
       "    <tr>\n",
       "      <th>4</th>\n",
       "      <td>08</td>\n",
       "      <td>01</td>\n",
       "      <td>Neutral</td>\n",
       "      <td>01</td>\n",
       "      <td>01</td>\n",
       "      <td>data/Actor_08/08-01-01-01.wav</td>\n",
       "    </tr>\n",
       "    <tr>\n",
       "      <th>...</th>\n",
       "      <td>...</td>\n",
       "      <td>...</td>\n",
       "      <td>...</td>\n",
       "      <td>...</td>\n",
       "      <td>...</td>\n",
       "      <td>...</td>\n",
       "    </tr>\n",
       "    <tr>\n",
       "      <th>295</th>\n",
       "      <td>01</td>\n",
       "      <td>01</td>\n",
       "      <td>Neutral</td>\n",
       "      <td>02</td>\n",
       "      <td>01</td>\n",
       "      <td>data/Actor_01/01-01-02-01.wav</td>\n",
       "    </tr>\n",
       "    <tr>\n",
       "      <th>296</th>\n",
       "      <td>01</td>\n",
       "      <td>01</td>\n",
       "      <td>Neutral</td>\n",
       "      <td>02</td>\n",
       "      <td>02</td>\n",
       "      <td>data/Actor_01/01-01-02-02.wav</td>\n",
       "    </tr>\n",
       "    <tr>\n",
       "      <th>297</th>\n",
       "      <td>01</td>\n",
       "      <td>04</td>\n",
       "      <td>Disgust</td>\n",
       "      <td>02</td>\n",
       "      <td>03</td>\n",
       "      <td>data/Actor_01/01-04-02-03.wav</td>\n",
       "    </tr>\n",
       "    <tr>\n",
       "      <th>298</th>\n",
       "      <td>01</td>\n",
       "      <td>03</td>\n",
       "      <td>Surprise</td>\n",
       "      <td>01</td>\n",
       "      <td>01</td>\n",
       "      <td>data/Actor_01/01-03-01-01.wav</td>\n",
       "    </tr>\n",
       "    <tr>\n",
       "      <th>299</th>\n",
       "      <td>01</td>\n",
       "      <td>02</td>\n",
       "      <td>Happy</td>\n",
       "      <td>01</td>\n",
       "      <td>01</td>\n",
       "      <td>data/Actor_01/01-02-01-01.wav</td>\n",
       "    </tr>\n",
       "  </tbody>\n",
       "</table>\n",
       "<p>300 rows × 6 columns</p>\n",
       "</div>"
      ],
      "text/plain": [
       "    actor emotion_code       emotion intensity repetition  \\\n",
       "0      08           05  Disappointed        02         03   \n",
       "1      08           03      Surprise        02         01   \n",
       "2      08           01       Neutral        02         01   \n",
       "3      08           04       Disgust        02         02   \n",
       "4      08           01       Neutral        01         01   \n",
       "..    ...          ...           ...       ...        ...   \n",
       "295    01           01       Neutral        02         01   \n",
       "296    01           01       Neutral        02         02   \n",
       "297    01           04       Disgust        02         03   \n",
       "298    01           03      Surprise        01         01   \n",
       "299    01           02         Happy        01         01   \n",
       "\n",
       "                         file_path  \n",
       "0    data/Actor_08/08-05-02-03.wav  \n",
       "1    data/Actor_08/08-03-02-01.wav  \n",
       "2    data/Actor_08/08-01-02-01.wav  \n",
       "3    data/Actor_08/08-04-02-02.wav  \n",
       "4    data/Actor_08/08-01-01-01.wav  \n",
       "..                             ...  \n",
       "295  data/Actor_01/01-01-02-01.wav  \n",
       "296  data/Actor_01/01-01-02-02.wav  \n",
       "297  data/Actor_01/01-04-02-03.wav  \n",
       "298  data/Actor_01/01-03-01-01.wav  \n",
       "299  data/Actor_01/01-02-01-01.wav  \n",
       "\n",
       "[300 rows x 6 columns]"
      ]
     },
     "execution_count": 1,
     "metadata": {},
     "output_type": "execute_result"
    }
   ],
   "source": [
    "import os\n",
    "import librosa\n",
    "import numpy as np\n",
    "import pandas as pd  # optional but handy for organizing metadata\n",
    "\n",
    "data_path = \"data\"  # or provide full path if needed\n",
    "\n",
    "audio_data = []      # list to store the audio arrays\n",
    "sample_rates = []    # list to store sample rates\n",
    "metadata = []        # list to store info extracted from file names\n",
    "\n",
    "# Define a mapping for emotion codes (if you need it later)\n",
    "emotion_map = {\n",
    "    \"01\": \"Neutral\",\n",
    "    \"02\": \"Happy\",\n",
    "    \"03\": \"Surprise\",\n",
    "    \"04\": \"Disgust\",\n",
    "    \"05\": \"Disappointed\"\n",
    "}\n",
    "\n",
    "# Loop through each actor directory\n",
    "for actor_dir in os.listdir(data_path):\n",
    "    actor_path = os.path.join(data_path, actor_dir)\n",
    "    if os.path.isdir(actor_path):\n",
    "        for file_name in os.listdir(actor_path):\n",
    "            if file_name.endswith('.wav'):\n",
    "                # Example file name: \"07-03-02-03.wav\"\n",
    "                name_parts = file_name.split('.')[0].split('-')\n",
    "                actor_id = name_parts[0]  # \"07\"\n",
    "                emotion_id = name_parts[1]  # \"03\"\n",
    "                intensity = name_parts[2]   # \"02\"\n",
    "                repetition = name_parts[3]  # \"03\"\n",
    "                \n",
    "                # Build full file path\n",
    "                file_path = os.path.join(actor_path, file_name)\n",
    "                \n",
    "                # Load audio file (set sr=None to keep the original sample rate)\n",
    "                audio, sr = librosa.load(file_path, sr=None)\n",
    "                \n",
    "                # Append the audio and sample rate\n",
    "                audio_data.append(audio)\n",
    "                sample_rates.append(sr)\n",
    "                \n",
    "                # Append metadata info as a dict\n",
    "                metadata.append({\n",
    "                    \"actor\": actor_id,\n",
    "                    \"emotion_code\": emotion_id,\n",
    "                    \"emotion\": emotion_map.get(emotion_id, \"Unknown\"),\n",
    "                    \"intensity\": intensity,\n",
    "                    \"repetition\": repetition,\n",
    "                    \"file_path\": file_path\n",
    "                })\n",
    "\n",
    "df_metadata = pd.DataFrame(metadata)\n",
    "df_metadata"
   ]
  },
  {
   "cell_type": "markdown",
   "metadata": {},
   "source": [
    "# Extract Audio Features"
   ]
  },
  {
   "cell_type": "code",
   "execution_count": 2,
   "metadata": {},
   "outputs": [
    {
     "name": "stdout",
     "output_type": "stream",
     "text": [
      "X: (300, 13)\n",
      "y: (300,)\n"
     ]
    }
   ],
   "source": [
    "def extract_features(audio, sr):\n",
    "    # Compute MFCC features; n_mfcc=13 is standard, but you can tweak it\n",
    "    mfcc = librosa.feature.mfcc(y=audio, sr=sr, n_mfcc=13)\n",
    "    # Average over time to get a fixed-size vector\n",
    "    mfcc_mean = np.mean(mfcc, axis=1)\n",
    "    return mfcc_mean\n",
    "\n",
    "# Extract features for each audio file\n",
    "X = []  # Feature vectors\n",
    "y = []  # Labels (emotions)\n",
    "\n",
    "for i, audio in enumerate(audio_data):\n",
    "    features = extract_features(audio, sample_rates[i])\n",
    "    X.append(features)\n",
    "    y.append(metadata[i]['emotion'])  # using the descriptive label\n",
    "\n",
    "X = np.array(X)\n",
    "y = np.array(y)\n",
    "\n",
    "print(f\"X: {X.shape}\")\n",
    "print(f\"y: {y.shape}\")"
   ]
  },
  {
   "cell_type": "markdown",
   "metadata": {},
   "source": [
    "# Data Splitting"
   ]
  },
  {
   "cell_type": "code",
   "execution_count": 3,
   "metadata": {},
   "outputs": [
    {
     "name": "stdout",
     "output_type": "stream",
     "text": [
      "X_train: (240, 13)\n",
      "y_train: (240,)\n",
      "X_test: (60, 13)\n",
      "y_test: (60,)\n"
     ]
    }
   ],
   "source": [
    "from sklearn.model_selection import train_test_split\n",
    "\n",
    "X_train, X_test, y_train, y_test = train_test_split(X, y, test_size=0.2, random_state=42)\n",
    "\n",
    "print(f\"X_train: {X_train.shape}\")\n",
    "print(f\"y_train: {y_train.shape}\")\n",
    "print(f\"X_test: {X_test.shape}\")\n",
    "print(f\"y_test: {y_test.shape}\")"
   ]
  },
  {
   "cell_type": "markdown",
   "metadata": {},
   "source": [
    "# Support Vector Machine"
   ]
  },
  {
   "cell_type": "code",
   "execution_count": 4,
   "metadata": {},
   "outputs": [
    {
     "name": "stdout",
     "output_type": "stream",
     "text": [
      "Accuracy: 0.7\n"
     ]
    }
   ],
   "source": [
    "from sklearn.svm import SVC\n",
    "from sklearn.metrics import accuracy_score, confusion_matrix\n",
    "\n",
    "# Initialize and train the classifier\n",
    "clf = SVC(kernel='linear')\n",
    "clf.fit(X_train, y_train)\n",
    "\n",
    "# Predict on the test set\n",
    "y_pred = clf.predict(X_test)\n",
    "\n",
    "# Evaluate performance\n",
    "accuracy = accuracy_score(y_test, y_pred)\n",
    "cm = confusion_matrix(y_test, y_pred)\n",
    "\n",
    "print(\"Accuracy:\", accuracy)"
   ]
  },
  {
   "cell_type": "code",
   "execution_count": 5,
   "metadata": {},
   "outputs": [
    {
     "data": {
      "image/png": "[encoded data removed]",
      "text/plain": [
       "<Figure size 800x600 with 2 Axes>"
      ]
     },
     "metadata": {},
     "output_type": "display_data"
    }
   ],
   "source": [
    "import matplotlib.pyplot as plt\n",
    "import seaborn as sns\n",
    "import numpy as np\n",
    "\n",
    "# Assuming 'cm' is your confusion matrix from the SVM predictions\n",
    "# and 'y' contains your original labels.\n",
    "labels = np.unique(y)  # Get unique emotion labels\n",
    "\n",
    "plt.figure(figsize=(8, 6))\n",
    "sns.heatmap(cm, annot=True, fmt=\"d\", cmap=\"Blues\", \n",
    "            xticklabels=labels, yticklabels=labels)\n",
    "plt.xlabel('Predicted Label')\n",
    "plt.ylabel('True Label')\n",
    "plt.title('Confusion Matrix')\n",
    "plt.show()"
   ]
  }
 ],
 "metadata": {
  "kernelspec": {
   "display_name": "IndoWaveSentiment",
   "language": "python",
   "name": "indowavesentiment"
  },
  "language_info": {
   "codemirror_mode": {
    "name": "ipython",
    "version": 3
   },
   "file_extension": ".py",
   "mimetype": "text/x-python",
   "name": "python",
   "nbconvert_exporter": "python",
   "pygments_lexer": "ipython3",
   "version": "3.9.21"
  }
 },
 "nbformat": 4,
 "nbformat_minor": 4
}
